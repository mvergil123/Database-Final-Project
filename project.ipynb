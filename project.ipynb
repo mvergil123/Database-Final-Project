import pandas as pd
import sqlite3
import matplotlib.pyplot as plt
import seaborn as sns

csv_path = 'vgsales.csv'
df = pd.read_csv(csv_path)
conn = sqlite3.connect(':memory:')
df.to_sql('vgsales', conn, if_exists='replace', index=False)

# NA vs. EU Sales Scatterplot
plt.figure(figsize=(10, 6))
plt.scatter(df['NA_Sales'], df['EU_Sales'], alpha=0.6)
plt.title('NA Sales vs. EU Sales')
plt.xlabel('NA Sales (millions)')
plt.ylabel('EU Sales (millions)')
plt.grid(True)
plt.tight_layout()
plt.show()

# Correlation Heatmap
sales_cols = ['NA_Sales', 'EU_Sales', 'JP_Sales', 'Other_Sales', 'Global_Sales']
X = df[sales_cols].fillna(0)
corr = X.corr()
plt.figure()
plt.imshow(corr, interpolation='nearest')
plt.colorbar()
plt.xticks(range(len(sales_cols)), sales_cols, rotation=45)
plt.yticks(range(len(sales_cols)), sales_cols)
plt.title('Correlation Matrix of Sales Features')
plt.tight_layout()
plt.show()

# Global Sales by Genre
query_top5 = """
SELECT Genre
FROM vgsales
GROUP BY Genre
ORDER BY SUM(Global_Sales) DESC
LIMIT 5;
"""
top5_rows = conn.execute(query_top5).fetchall()
top5_genres = [r[0] for r in top5_rows]

subset = df[df['Genre'].isin(top5_genres)]
plt.figure(figsize=(10, 6))
sns.boxplot(
    data=subset,
    x='Genre',
    y='Global_Sales',
    order=top5_genres,
    showfliers=False
)
plt.title('Global Sales Distribution for Top 5 Genres')
plt.xlabel('Genre')
plt.ylabel('Global Sales (millions)')
plt.xticks(rotation=45, ha='right')
plt.tight_layout()
plt.show()
